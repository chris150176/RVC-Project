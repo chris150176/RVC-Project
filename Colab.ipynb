{
  "cells": [
    {
      "cell_type": "markdown",
      "metadata": {},
      "source": [
        "# \ud83d\udde3\ufe0f Retrieval-based Voice Conversion (RVC) - Setup\n",
        "Dieses Notebook l\u00e4dt dein eigenes RVC-Projekt von GitHub und startet die Umgebung in Colab."
      ]
    },
    {
      "cell_type": "code",
      "execution_count": null,
      "metadata": {},
      "outputs": [],
      "source": [
        "# \u2705 Klone dein GitHub-Repository (ersetze ggf. den Link)\n",
        "!git clone https://github.com/chris150176/RVC-Project.git\n",
        "%cd RVC-Project"
      ]
    },
    {
      "cell_type": "code",
      "execution_count": null,
      "metadata": {},
      "outputs": [],
      "source": [
        "# \ud83d\udce6 Abh\u00e4ngigkeiten installieren\n",
        "!pip install -r requirements.txt || pip install -r RVC-Project/requirements.txt"
      ]
    },
    {
      "cell_type": "code",
      "execution_count": null,
      "metadata": {},
      "outputs": [],
      "source": [
        "# \ud83d\ude80 Starte die WebUI (gradio Interface)\n",
        "!python infer-web.py --colab"
      ]
    }
  ],
  "metadata": {
    "kernelspec": {
      "display_name": "Python 3",
      "language": "python",
      "name": "python3"
    },
    "language_info": {
      "name": "python",
      "version": "3.10"
    }
  },
  "nbformat": 4,
  "nbformat_minor": 2
}